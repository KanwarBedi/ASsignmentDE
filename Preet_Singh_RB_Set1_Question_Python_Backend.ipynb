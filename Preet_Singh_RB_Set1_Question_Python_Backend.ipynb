{
  "cells": [
    {
      "cell_type": "markdown",
      "metadata": {
        "id": "view-in-github",
        "colab_type": "text"
      },
      "source": [
        "<a href=\"https://colab.research.google.com/github/KanwarBedi/ASsignmentDE/blob/main/Preet_Singh_RB_Set1_Question_Python_Backend.ipynb\" target=\"_parent\"><img src=\"https://colab.research.google.com/assets/colab-badge.svg\" alt=\"Open In Colab\"/></a>"
      ]
    },
    {
      "cell_type": "markdown",
      "metadata": {
        "id": "XmyNkdszCFUr"
      },
      "source": [
        "![image.png](data:image/png;base64,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)"
      ]
    },
    {
      "cell_type": "markdown",
      "metadata": {
        "id": "vP9Fnsi5FzRa"
      },
      "source": [
        "# Python Backend Developer Assessment.\n",
        "\n",
        "\n"
      ]
    },
    {
      "cell_type": "markdown",
      "metadata": {
        "id": "a3JV3kTPHMcP"
      },
      "source": [
        "## 1. Write a python function that find maximum k-repeating value of word in sequence.\n",
        "\n",
        "For a string sequence, a string word is k-repeating if word concatenated k times is a substring of sequence. The word's maximum k-repeating value is the highest value k where word is k-repeating in sequence. If word is not a substring of sequence, word's maximum k-repeating value is 0.\n",
        "\n",
        "Given strings sequence and word, return the maximum k-repeating value of word in sequence.\n",
        "\n",
        "\n",
        "\n",
        "**Example 1:**\n",
        "\n",
        "Input: sequence = \"ababc\", word = \"ab\" \\\n",
        "Output: 2 \\\n",
        "Explanation: \"abab\" is a substring in \"ababc\".\n",
        "\n",
        "\n",
        "**Example 2:** \\\n",
        "Input: sequence = \"ababc\", word = \"ba\"\\\n",
        "Output: 1 \\\n",
        "Explanation: \"ba\" is a substring in \"ababc\". \"baba\" is not a substring in \"ababc\".\n",
        "\n",
        "**Example 3:**\n",
        "\n",
        "Input: sequence = \"ababc\", word = \"ac\" \\\n",
        "Output: 0 \\\n",
        "Explanation: \"ac\" is not a substring in \"ababc\".\n"
      ]
    },
    {
      "cell_type": "code",
      "execution_count": 51,
      "metadata": {
        "id": "baun_rFLGTwY"
      },
      "outputs": [],
      "source": [
        "def maxRepeating(sequence: str, word: str) -> int:\n",
        "  max_count=0\n",
        "  curr_count = 0\n",
        "  i = 0\n",
        "  word_length = len(word)\n",
        "  while i <= len(sequence) - word_length:\n",
        "    if sequence[i:i + word_length] == word:\n",
        "      curr_count+=1\n",
        "      i+=word_length\n",
        "    else:\n",
        "      curr_count = 0\n",
        "      i+=1\n",
        "\n",
        "    max_count = max(max_count,curr_count)\n",
        "  return max_count\n",
        "    ### write your code here\n"
      ]
    },
    {
      "cell_type": "markdown",
      "metadata": {
        "id": "J6YcmQAKKhak"
      },
      "source": [
        "### Test cases & expected output"
      ]
    },
    {
      "cell_type": "code",
      "execution_count": 52,
      "metadata": {
        "colab": {
          "base_uri": "https://localhost:8080/"
        },
        "id": "hX4-bhLoHly6",
        "outputId": "650f34dc-e447-4368-f743-9bb53948896d"
      },
      "outputs": [
        {
          "output_type": "execute_result",
          "data": {
            "text/plain": [
              "2"
            ]
          },
          "metadata": {},
          "execution_count": 52
        }
      ],
      "source": [
        "maxRepeating(\"ababc\", word= \"ab\")"
      ]
    },
    {
      "cell_type": "code",
      "execution_count": 53,
      "metadata": {
        "colab": {
          "base_uri": "https://localhost:8080/"
        },
        "id": "g0o0x-LQKhak",
        "outputId": "dd240937-6bd0-42f4-b518-93a528397983",
        "scrolled": true
      },
      "outputs": [
        {
          "output_type": "execute_result",
          "data": {
            "text/plain": [
              "1"
            ]
          },
          "metadata": {},
          "execution_count": 53
        }
      ],
      "source": [
        "maxRepeating(\"ababc\", word= \"ba\")"
      ]
    },
    {
      "cell_type": "code",
      "execution_count": 54,
      "metadata": {
        "colab": {
          "base_uri": "https://localhost:8080/"
        },
        "id": "IJ3vC3OFKhal",
        "outputId": "a72f59ba-7122-4f6d-cbe8-4dba68b80932"
      },
      "outputs": [
        {
          "output_type": "execute_result",
          "data": {
            "text/plain": [
              "0"
            ]
          },
          "metadata": {},
          "execution_count": 54
        }
      ],
      "source": [
        "maxRepeating(\"ababc\", word= \"ac\")"
      ]
    },
    {
      "cell_type": "markdown",
      "metadata": {
        "id": "A0ItLHzIHsIl"
      },
      "source": [
        "## 2.Get the longest common substring (prefix) in a given python list.\n",
        "\n",
        "**Write a Python function to get the longest common substring in a given python list.**\n",
        "* Example1: input_string_lst = ['flower','flow','flaunt']\n",
        " **Expected output is : 'fl'   As fl is common among all substrings.**\n",
        "\n",
        "* Example2: input_string_lst = ['flower','flow','flaunt',\"\"]\n",
        " **Expected output is : ''   Due to empty  string longest common substring is \"\".**"
      ]
    },
    {
      "cell_type": "code",
      "execution_count": 43,
      "metadata": {
        "id": "rbpILnc8Hmtw"
      },
      "outputs": [],
      "source": [
        "def longest_common_prefix(input_string_lst):\n",
        "\n",
        "  if not input_string_lst:\n",
        "    return \"\"\n",
        "\n",
        "  ref_string = input_string_lst[0]\n",
        "\n",
        "  def is_common(sub):\n",
        "    return all(sub in string for string in input_string_lst)\n",
        "\n",
        "  max_substr = \" \"\n",
        "  for length in range(len(ref_string),0,-1):\n",
        "    for i in range(len(ref_string)-length+1):\n",
        "      substr = ref_string[i:i + length]\n",
        "      if is_common(substr):\n",
        "        if len(substr) > len(max_substr):\n",
        "          max_substr = substr\n",
        "\n",
        "    ############\n",
        "    ## Write your code here\n",
        "    ############\n",
        "  return max_substr\n",
        "\n",
        "# input_string_lst = ['flower', 'flow', 'flaunt']\n",
        "# result = longest_common_prefix(input_string_lst)\n",
        "# print(result)"
      ]
    },
    {
      "cell_type": "markdown",
      "metadata": {
        "id": "0dT-hdlMKham"
      },
      "source": [
        "### Test cases & expected output"
      ]
    },
    {
      "cell_type": "code",
      "execution_count": 44,
      "metadata": {
        "colab": {
          "base_uri": "https://localhost:8080/",
          "height": 35
        },
        "id": "xCwxTP5fH0Q5",
        "outputId": "7735aff0-d7a8-4b93-ee84-627b145e183c"
      },
      "outputs": [
        {
          "output_type": "execute_result",
          "data": {
            "text/plain": [
              "'fl'"
            ],
            "application/vnd.google.colaboratory.intrinsic+json": {
              "type": "string"
            }
          },
          "metadata": {},
          "execution_count": 44
        }
      ],
      "source": [
        "longest_common_prefix(['flower','flow','flaunt'])"
      ]
    },
    {
      "cell_type": "code",
      "execution_count": 55,
      "metadata": {
        "colab": {
          "base_uri": "https://localhost:8080/",
          "height": 35
        },
        "id": "WBe4fE6DTh9M",
        "outputId": "e8ec80e1-51d9-4b78-8dd9-54e702fab7b6"
      },
      "outputs": [
        {
          "output_type": "execute_result",
          "data": {
            "text/plain": [
              "' '"
            ],
            "application/vnd.google.colaboratory.intrinsic+json": {
              "type": "string"
            }
          },
          "metadata": {},
          "execution_count": 55
        }
      ],
      "source": [
        "longest_common_prefix(['flower','flow','flaunt',\"\"])"
      ]
    },
    {
      "cell_type": "markdown",
      "metadata": {
        "id": "6h9XsKIieYOu"
      },
      "source": [
        "## 3. Object oriented Programming question.\n",
        "\n",
        "* BaseProcessor Class:\n",
        "   Contains a method remove_punctuation which removes all punctuation from a given string.\n",
        "* AdvancedProcessor Class: Inherits from BaseProcessor.\n",
        "  * Contains a method is_prime to check if a number is prime.\n",
        "  * Contains a method filter_primes which filters prime numbers from a given list of integers using the is_prime method.\n"
      ]
    },
    {
      "cell_type": "code",
      "execution_count": null,
      "metadata": {
        "id": "OPB7SwyheXPY"
      },
      "outputs": [],
      "source": [
        "import string\n",
        "\n",
        "# Base class\n",
        "class BaseProcessor:\n",
        "    def __init__(self):\n",
        "        pass\n",
        "\n",
        "    # Method to remove punctuation from a string\n",
        "    def remove_punctuation(self, input_string):\n",
        "        pass\n",
        "\n",
        "# Inherited class\n",
        "class AdvancedProcessor(BaseProcessor):\n",
        "    def __init__(self):\n",
        "        ### Complete the initialisation of base class\n",
        "        pass\n",
        "\n",
        "    # Method to check if a number is prime\n",
        "    def is_prime(self, num):\n",
        "        if num <= 1:\n",
        "            return False\n",
        "        for i in range(2, int(num**0.5) + 1):\n",
        "            if num % i == 0:\n",
        "                return False\n",
        "        return True\n",
        "\n",
        "    # Method to filter prime numbers from a list\n",
        "    def filter_primes(self, num_list):\n",
        "        ### Filter the list of prime numbers and return\n",
        "        pass\n"
      ]
    },
    {
      "cell_type": "code",
      "execution_count": null,
      "metadata": {
        "id": "NXPdrg6yem7V"
      },
      "outputs": [],
      "source": [
        "processor = AdvancedProcessor()"
      ]
    },
    {
      "cell_type": "markdown",
      "metadata": {
        "id": "v75axZbnK_mG"
      },
      "source": [
        "### Task 1:Instantiate Base class init method from processor object."
      ]
    },
    {
      "cell_type": "code",
      "execution_count": null,
      "metadata": {
        "id": "hpa_ZOi9LFO4"
      },
      "outputs": [],
      "source": []
    },
    {
      "cell_type": "markdown",
      "metadata": {
        "id": "QWnF40eFLGdq"
      },
      "source": [
        "### Task 2: Test remove_punctuation method"
      ]
    },
    {
      "cell_type": "code",
      "execution_count": null,
      "metadata": {
        "id": "wp4Fch8kem4T"
      },
      "outputs": [],
      "source": [
        "test_string = \"Hello, World! This is a test-string.\"\n",
        "print(\"Original String:\", test_string)\n",
        "print(\"Without Punctuation:\", processor.remove_punctuation(test_string))"
      ]
    },
    {
      "cell_type": "markdown",
      "metadata": {
        "id": "uK4XYzVKLK1c"
      },
      "source": [
        "### Task 3: Test Filter method : Call is_prime method from filter_primes"
      ]
    },
    {
      "cell_type": "code",
      "execution_count": null,
      "metadata": {
        "id": "NjSawpDSe5gF"
      },
      "outputs": [],
      "source": [
        "# Test filter_primes method\n",
        "test_list = [2, 3, 4, 5, 6, 7, 8, 9, 10, 11, 12, 13, 14, 15]\n",
        "print(\"Original List:\", test_list)\n",
        "print(\"Prime Numbers:\", processor.filter_primes(test_list))"
      ]
    },
    {
      "cell_type": "markdown",
      "metadata": {
        "id": "WDP2QlwQq6bB"
      },
      "source": [
        "## 4. Flask API Framework\n",
        "\n",
        "You are provided with a partially implemented Flask application. Your task is to identify and fix the issues in the existing code and complete the missing blocks to ensure the application works as intended.\n",
        "###Task\n",
        "* **Error Handling**: Update the /submit route to handle cases where any form fields are missing or empty. Return an appropriate error message if any fields are left blank.\n",
        "\n",
        "* **HTML Escaping**: Modify the /submit route to escape user input to prevent HTML injection attacks.\n",
        "\n",
        "* **404 Error Page**: Implement a custom 404 error page for non-existent routes.\n",
        "\n",
        "\n",
        "### Requirements\n",
        "\n",
        "* **Error Handling**: Ensure that the application checks if the name, email, or feedback fields are empty and returns an error message if any are\n",
        "left blank. The error message should prompt the user to fill out all fields.\n",
        "\n",
        "* **HTML Escaping**: Use flask utilities or proper HTML escaping methods to ensure that the user input is displayed safely on the thank you page.\n",
        "\n",
        "* **404 Error Page**: Implement a route or handler that returns a custom \"404 Not Found\" page for any undefined routes."
      ]
    },
    {
      "cell_type": "code",
      "execution_count": 58,
      "metadata": {
        "colab": {
          "base_uri": "https://localhost:8080/",
          "height": 393
        },
        "id": "Kp1jxj43q87d",
        "outputId": "b53342a9-fde6-4ea5-d327-22ca20a84069"
      },
      "outputs": [
        {
          "output_type": "error",
          "ename": "ImportError",
          "evalue": "cannot import name 'escape' from 'flask' (/usr/local/lib/python3.10/dist-packages/flask/__init__.py)",
          "traceback": [
            "\u001b[0;31m---------------------------------------------------------------------------\u001b[0m",
            "\u001b[0;31mImportError\u001b[0m                               Traceback (most recent call last)",
            "\u001b[0;32m<ipython-input-58-f8bef701d29a>\u001b[0m in \u001b[0;36m<cell line: 1>\u001b[0;34m()\u001b[0m\n\u001b[0;32m----> 1\u001b[0;31m \u001b[0;32mfrom\u001b[0m \u001b[0mflask\u001b[0m \u001b[0;32mimport\u001b[0m \u001b[0mFlask\u001b[0m\u001b[0;34m,\u001b[0m \u001b[0mrender_template\u001b[0m\u001b[0;34m,\u001b[0m \u001b[0mrequest\u001b[0m\u001b[0;34m,\u001b[0m\u001b[0mescape\u001b[0m\u001b[0;34m,\u001b[0m\u001b[0mabort\u001b[0m\u001b[0;34m\u001b[0m\u001b[0;34m\u001b[0m\u001b[0m\n\u001b[0m\u001b[1;32m      2\u001b[0m \u001b[0;34m\u001b[0m\u001b[0m\n\u001b[1;32m      3\u001b[0m \u001b[0mapp\u001b[0m \u001b[0;34m=\u001b[0m \u001b[0mFlask\u001b[0m\u001b[0;34m(\u001b[0m\u001b[0m__name__\u001b[0m\u001b[0;34m)\u001b[0m\u001b[0;34m\u001b[0m\u001b[0;34m\u001b[0m\u001b[0m\n\u001b[1;32m      4\u001b[0m \u001b[0;34m\u001b[0m\u001b[0m\n\u001b[1;32m      5\u001b[0m \u001b[0;31m# Homepage route\u001b[0m\u001b[0;34m\u001b[0m\u001b[0;34m\u001b[0m\u001b[0m\n",
            "\u001b[0;31mImportError\u001b[0m: cannot import name 'escape' from 'flask' (/usr/local/lib/python3.10/dist-packages/flask/__init__.py)",
            "",
            "\u001b[0;31m---------------------------------------------------------------------------\u001b[0;32m\nNOTE: If your import is failing due to a missing package, you can\nmanually install dependencies using either !pip or !apt.\n\nTo view examples of installing some common dependencies, click the\n\"Open Examples\" button below.\n\u001b[0;31m---------------------------------------------------------------------------\u001b[0m\n"
          ],
          "errorDetails": {
            "actions": [
              {
                "action": "open_url",
                "actionText": "Open Examples",
                "url": "/notebooks/snippets/importing_libraries.ipynb"
              }
            ]
          }
        }
      ],
      "source": [
        "from flask import Flask, render_template, request,escape,abort\n",
        "\n",
        "app = Flask(__name__)\n",
        "\n",
        "# Homepage route\n",
        "@app.route('/')\n",
        "def index():\n",
        "    return '''\n",
        "        <form action=\"/submit\" method=\"post\">\n",
        "            Name: <input type=\"text\" name=\"name\"><br>\n",
        "            Email: <input type=\"text\" name=\"email\"><br>\n",
        "            Feedback: <textarea name=\"feedback\"></textarea><br>\n",
        "            <input type=\"submit\" value=\"Submit\">\n",
        "        </form>\n",
        "    '''\n",
        "\n",
        "# Feedback submission handler\n",
        "@app.route('/submit', methods=['POST'])\n",
        "def submit():\n",
        "    name = request.form.get('name').strip()\n",
        "    email = request.form.get('email').strip()\n",
        "    feedback = request.form.get('feedback').strip()\n",
        "\n",
        "    if not name or not email or not feedback:\n",
        "      return '''\n",
        "            <h1> all fields are required<h1>\n",
        "            <p> make sure you fill out all fields </p>\n",
        "            '''\n",
        "\n",
        "    name = escape(name)\n",
        "    email = escape(email)\n",
        "    feedback = escape(feedback)\n",
        "\n",
        "    return f'''\n",
        "        <h1>Thank You for Your Feedback!</h1>\n",
        "        <p><strong>Name:</strong> {name}</p>\n",
        "        <p><strong>Email:</strong> {email}</p>\n",
        "        <p><strong>Feedback:</strong> {feedback}</p>\n",
        "    '''\n",
        "@app.errorhandler(404)\n",
        "def not_found(error):\n",
        "  return '''\n",
        "        <h1> 404 not found <h1>\n",
        "        '''\n",
        "\n",
        "\n",
        "if __name__ == '__main__':\n",
        "    app.run(debug=True)\n"
      ]
    },
    {
      "cell_type": "markdown",
      "metadata": {
        "id": "LNyeYqE6bZLE"
      },
      "source": [
        "## 5. Handling errors in API\n",
        "There are instances where requests made to an API do not go as expected. Several factors on either the client or server-side could be at play. Regardless of the cause, the outcome is always the same: the request fails.\n",
        "\n",
        "When using REST APIs, it’s always a good idea to make your code resilient. However, before you can write robust code, you must understand how to manage the reported errors when things do not go to plan.  "
      ]
    },
    {
      "cell_type": "code",
      "execution_count": null,
      "metadata": {
        "id": "_BUG-jkgboSx"
      },
      "outputs": [],
      "source": [
        "import requests"
      ]
    },
    {
      "cell_type": "code",
      "execution_count": null,
      "metadata": {
        "id": "Pugbqchob2uG"
      },
      "outputs": [],
      "source": [
        "correct_url= \"https://jsonplaceholder.typicode.com/posts\""
      ]
    },
    {
      "cell_type": "code",
      "execution_count": null,
      "metadata": {
        "colab": {
          "base_uri": "https://localhost:8080/",
          "height": 332
        },
        "id": "Ago8u4gYY9Ey",
        "outputId": "5687300d-932d-4f95-e615-b3245bf9d071"
      },
      "outputs": [
        {
          "ename": "HTTPError",
          "evalue": "404 Client Error: Not Found for url: https://jsonplaceholder.typicode.com/postz",
          "output_type": "error",
          "traceback": [
            "\u001b[0;31m---------------------------------------------------------------------------\u001b[0m",
            "\u001b[0;31mHTTPError\u001b[0m                                 Traceback (most recent call last)",
            "\u001b[0;32m<ipython-input-10-aa2ae6cc4f9e>\u001b[0m in \u001b[0;36m<cell line: 6>\u001b[0;34m()\u001b[0m\n\u001b[1;32m      4\u001b[0m \u001b[0;31m# Attempt to GET data from provided endpoint\u001b[0m\u001b[0;34m\u001b[0m\u001b[0;34m\u001b[0m\u001b[0m\n\u001b[1;32m      5\u001b[0m \u001b[0mresponse\u001b[0m \u001b[0;34m=\u001b[0m \u001b[0mrequests\u001b[0m\u001b[0;34m.\u001b[0m\u001b[0mget\u001b[0m\u001b[0;34m(\u001b[0m\u001b[0murl\u001b[0m\u001b[0;34m)\u001b[0m\u001b[0;34m\u001b[0m\u001b[0;34m\u001b[0m\u001b[0m\n\u001b[0;32m----> 6\u001b[0;31m \u001b[0mresponse\u001b[0m\u001b[0;34m.\u001b[0m\u001b[0mraise_for_status\u001b[0m\u001b[0;34m(\u001b[0m\u001b[0;34m)\u001b[0m\u001b[0;34m\u001b[0m\u001b[0;34m\u001b[0m\u001b[0m\n\u001b[0m\u001b[1;32m      7\u001b[0m \u001b[0;31m# If the request fails (404) then print the error.\u001b[0m\u001b[0;34m\u001b[0m\u001b[0;34m\u001b[0m\u001b[0m\n\u001b[1;32m      8\u001b[0m \u001b[0;34m\u001b[0m\u001b[0m\n",
            "\u001b[0;32m/usr/local/lib/python3.10/dist-packages/requests/models.py\u001b[0m in \u001b[0;36mraise_for_status\u001b[0;34m(self)\u001b[0m\n\u001b[1;32m   1019\u001b[0m \u001b[0;34m\u001b[0m\u001b[0m\n\u001b[1;32m   1020\u001b[0m         \u001b[0;32mif\u001b[0m \u001b[0mhttp_error_msg\u001b[0m\u001b[0;34m:\u001b[0m\u001b[0;34m\u001b[0m\u001b[0;34m\u001b[0m\u001b[0m\n\u001b[0;32m-> 1021\u001b[0;31m             \u001b[0;32mraise\u001b[0m \u001b[0mHTTPError\u001b[0m\u001b[0;34m(\u001b[0m\u001b[0mhttp_error_msg\u001b[0m\u001b[0;34m,\u001b[0m \u001b[0mresponse\u001b[0m\u001b[0;34m=\u001b[0m\u001b[0mself\u001b[0m\u001b[0;34m)\u001b[0m\u001b[0;34m\u001b[0m\u001b[0;34m\u001b[0m\u001b[0m\n\u001b[0m\u001b[1;32m   1022\u001b[0m \u001b[0;34m\u001b[0m\u001b[0m\n\u001b[1;32m   1023\u001b[0m     \u001b[0;32mdef\u001b[0m \u001b[0mclose\u001b[0m\u001b[0;34m(\u001b[0m\u001b[0mself\u001b[0m\u001b[0;34m)\u001b[0m\u001b[0;34m:\u001b[0m\u001b[0;34m\u001b[0m\u001b[0;34m\u001b[0m\u001b[0m\n",
            "\u001b[0;31mHTTPError\u001b[0m: 404 Client Error: Not Found for url: https://jsonplaceholder.typicode.com/postz"
          ]
        }
      ],
      "source": [
        "# A deliberate typo is made in the endpoint \"postz\" instead of \"posts\"\n",
        "url = \"https://jsonplaceholder.typicode.com/postz\"\n",
        "\n",
        "# Attempt to GET data from provided endpoint\n",
        "response = requests.get(url)\n",
        "response.raise_for_status()\n",
        "# If the request fails (404) then handle that error by printing the error.\n",
        "\n",
        "\"\"\"\n",
        "404 Client Error: Not Found for url: https://jsonplaceholder.typicode.com/postz\n",
        "\"\"\""
      ]
    },
    {
      "cell_type": "code",
      "execution_count": null,
      "metadata": {
        "id": "xP7m6UWjbm08"
      },
      "outputs": [],
      "source": []
    }
  ],
  "metadata": {
    "colab": {
      "provenance": [],
      "include_colab_link": true
    },
    "kernelspec": {
      "display_name": "Python 3",
      "language": "python",
      "name": "python3"
    },
    "language_info": {
      "codemirror_mode": {
        "name": "ipython",
        "version": 3
      },
      "file_extension": ".py",
      "mimetype": "text/x-python",
      "name": "python",
      "nbconvert_exporter": "python",
      "pygments_lexer": "ipython3",
      "version": "3.8.5"
    }
  },
  "nbformat": 4,
  "nbformat_minor": 0
}